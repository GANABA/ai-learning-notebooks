{
 "cells": [
  {
   "cell_type": "code",
   "execution_count": 36,
   "id": "7744856d-b5c3-4ad8-9d1e-560daaa16ebb",
   "metadata": {},
   "outputs": [],
   "source": [
    "# Bibliotèque pour effectuer des request HTTP vers des site web et API\n",
    "import requests"
   ]
  },
  {
   "cell_type": "code",
   "execution_count": 37,
   "id": "7a45e1b2-708f-4807-a147-c071e1b1413e",
   "metadata": {},
   "outputs": [],
   "source": [
    "# Bibliothèque pour parser facilement et rapidemement du HTML ou XML pour analyser\n",
    "from bs4 import BeautifulSoup"
   ]
  },
  {
   "cell_type": "code",
   "execution_count": 41,
   "id": "cf675dc0-ea47-4846-a4f0-0e4645a8ddee",
   "metadata": {},
   "outputs": [],
   "source": [
    "import pandas as pd"
   ]
  },
  {
   "cell_type": "code",
   "execution_count": 44,
   "id": "d8fdd380-c17d-4176-b79d-babf7b2bd890",
   "metadata": {},
   "outputs": [],
   "source": [
    "books = []\n",
    "# Parcourir toutes les pages\n",
    "for i in range(1,51) :\n",
    "    # Récuperation du lien du site à scapper\n",
    "    url = f\"https://books.toscrape.com/catalogue/page-{i}.html\"\n",
    "    response = requests.get(url)\n",
    "    response = response.content\n",
    "    # Parsing de tout le code HTML\n",
    "    soup = BeautifulSoup(response, 'html.parser')\n",
    "    # Récupération de la première balise 'ol'\n",
    "    ol = soup.find('ol')\n",
    "    # Recuperation de toute les balises 'article' ayant la classe \"product_pod\" à l'interieur de la balise 'ol'\n",
    "    articles = ol.find_all('article', class_='product_pod')\n",
    "\n",
    "    for article in articles :\n",
    "        image = article.find('img')\n",
    "        title = image.attrs['alt']\n",
    "        star = article.find('p')\n",
    "        star = star['class'][1]\n",
    "        price = article.find('p', class_='price_color').text\n",
    "        price = price[1:]\n",
    "        books.append([title, price, star])"
   ]
  },
  {
   "cell_type": "code",
   "execution_count": 46,
   "id": "7e34e4bf-5b42-4ea9-a491-e945857d337f",
   "metadata": {},
   "outputs": [],
   "source": [
    "df = pd.DataFrame(data=books, columns=['Title', 'Price', 'Star Rating'])"
   ]
  },
  {
   "cell_type": "code",
   "execution_count": 48,
   "id": "62b9755a-0a19-4f02-9cdd-568f36addee6",
   "metadata": {},
   "outputs": [],
   "source": [
    "df.to_csv('books.csv')"
   ]
  },
  {
   "cell_type": "code",
   "execution_count": 51,
   "id": "eef59a79-9838-40e2-a8a6-a8147b19f656",
   "metadata": {},
   "outputs": [
    {
     "data": {
      "text/plain": [
       "(1000, 3)"
      ]
     },
     "execution_count": 51,
     "metadata": {},
     "output_type": "execute_result"
    }
   ],
   "source": [
    "df.shape"
   ]
  },
  {
   "cell_type": "code",
   "execution_count": 53,
   "id": "0d78a662-abbb-4af5-b33e-d21f93601d08",
   "metadata": {},
   "outputs": [
    {
     "data": {
      "text/html": [
       "<div>\n",
       "<style scoped>\n",
       "    .dataframe tbody tr th:only-of-type {\n",
       "        vertical-align: middle;\n",
       "    }\n",
       "\n",
       "    .dataframe tbody tr th {\n",
       "        vertical-align: top;\n",
       "    }\n",
       "\n",
       "    .dataframe thead th {\n",
       "        text-align: right;\n",
       "    }\n",
       "</style>\n",
       "<table border=\"1\" class=\"dataframe\">\n",
       "  <thead>\n",
       "    <tr style=\"text-align: right;\">\n",
       "      <th></th>\n",
       "      <th>Title</th>\n",
       "      <th>Price</th>\n",
       "      <th>Star Rating</th>\n",
       "    </tr>\n",
       "  </thead>\n",
       "  <tbody>\n",
       "    <tr>\n",
       "      <th>0</th>\n",
       "      <td>A Light in the Attic</td>\n",
       "      <td>51.77</td>\n",
       "      <td>Three</td>\n",
       "    </tr>\n",
       "    <tr>\n",
       "      <th>1</th>\n",
       "      <td>Tipping the Velvet</td>\n",
       "      <td>53.74</td>\n",
       "      <td>One</td>\n",
       "    </tr>\n",
       "    <tr>\n",
       "      <th>2</th>\n",
       "      <td>Soumission</td>\n",
       "      <td>50.10</td>\n",
       "      <td>One</td>\n",
       "    </tr>\n",
       "    <tr>\n",
       "      <th>3</th>\n",
       "      <td>Sharp Objects</td>\n",
       "      <td>47.82</td>\n",
       "      <td>Four</td>\n",
       "    </tr>\n",
       "    <tr>\n",
       "      <th>4</th>\n",
       "      <td>Sapiens: A Brief History of Humankind</td>\n",
       "      <td>54.23</td>\n",
       "      <td>Five</td>\n",
       "    </tr>\n",
       "  </tbody>\n",
       "</table>\n",
       "</div>"
      ],
      "text/plain": [
       "                                   Title  Price Star Rating\n",
       "0                   A Light in the Attic  51.77       Three\n",
       "1                     Tipping the Velvet  53.74         One\n",
       "2                             Soumission  50.10         One\n",
       "3                          Sharp Objects  47.82        Four\n",
       "4  Sapiens: A Brief History of Humankind  54.23        Five"
      ]
     },
     "execution_count": 53,
     "metadata": {},
     "output_type": "execute_result"
    }
   ],
   "source": [
    "df.head()"
   ]
  }
 ],
 "metadata": {
  "kernelspec": {
   "display_name": "Python 3 (ipykernel)",
   "language": "python",
   "name": "python3"
  },
  "language_info": {
   "codemirror_mode": {
    "name": "ipython",
    "version": 3
   },
   "file_extension": ".py",
   "mimetype": "text/x-python",
   "name": "python",
   "nbconvert_exporter": "python",
   "pygments_lexer": "ipython3",
   "version": "3.12.7"
  }
 },
 "nbformat": 4,
 "nbformat_minor": 5
}
