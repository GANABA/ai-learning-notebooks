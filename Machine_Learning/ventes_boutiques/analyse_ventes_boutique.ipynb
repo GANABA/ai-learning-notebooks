{
 "cells": [
  {
   "cell_type": "code",
   "execution_count": 1,
   "id": "d89abef9-fec3-4137-9c71-002814356ace",
   "metadata": {},
   "outputs": [],
   "source": [
    "#import des packages\n",
    "\n",
    "import numpy as np\n",
    "import pandas as pd\n",
    "import matplotlib.pyplot as plt"
   ]
  },
  {
   "cell_type": "code",
   "execution_count": 2,
   "id": "deb30991-931d-4d7b-9b76-7b1ffc241fd7",
   "metadata": {},
   "outputs": [],
   "source": [
    "#chargement du fichier de données csv\n",
    "data_file = pd.read_csv(\"ventes_boutique_large.csv\")\n"
   ]
  },
  {
   "cell_type": "code",
   "execution_count": 3,
   "id": "e942fa67-15e8-4265-ab56-fda060640786",
   "metadata": {},
   "outputs": [],
   "source": [
    "#DataFrame\n",
    "df = pd.DataFrame(data=data_file)"
   ]
  },
  {
   "cell_type": "code",
   "execution_count": 4,
   "id": "22eb4e84-7e7a-41bb-b9f5-3513b4180bb6",
   "metadata": {
    "panel-layout": {
     "height": 167,
     "visible": true,
     "width": 100
    }
   },
   "outputs": [
    {
     "data": {
      "text/html": [
       "<div>\n",
       "<style scoped>\n",
       "    .dataframe tbody tr th:only-of-type {\n",
       "        vertical-align: middle;\n",
       "    }\n",
       "\n",
       "    .dataframe tbody tr th {\n",
       "        vertical-align: top;\n",
       "    }\n",
       "\n",
       "    .dataframe thead th {\n",
       "        text-align: right;\n",
       "    }\n",
       "</style>\n",
       "<table border=\"1\" class=\"dataframe\">\n",
       "  <thead>\n",
       "    <tr style=\"text-align: right;\">\n",
       "      <th></th>\n",
       "      <th>Date</th>\n",
       "      <th>Produit</th>\n",
       "      <th>Catégorie</th>\n",
       "      <th>Quantité</th>\n",
       "      <th>Prix_unitaire</th>\n",
       "      <th>Ville</th>\n",
       "    </tr>\n",
       "  </thead>\n",
       "  <tbody>\n",
       "    <tr>\n",
       "      <th>0</th>\n",
       "      <td>2024-04-03</td>\n",
       "      <td>Lunettes</td>\n",
       "      <td>Accessoires</td>\n",
       "      <td>1</td>\n",
       "      <td>52124</td>\n",
       "      <td>Djougou</td>\n",
       "    </tr>\n",
       "    <tr>\n",
       "      <th>1</th>\n",
       "      <td>2024-03-06</td>\n",
       "      <td>Sac à dos</td>\n",
       "      <td>Accessoires</td>\n",
       "      <td>3</td>\n",
       "      <td>17419</td>\n",
       "      <td>Porto-Novo</td>\n",
       "    </tr>\n",
       "    <tr>\n",
       "      <th>2</th>\n",
       "      <td>2024-03-09</td>\n",
       "      <td>Téléphone</td>\n",
       "      <td>Électronique</td>\n",
       "      <td>3</td>\n",
       "      <td>7048</td>\n",
       "      <td>Abomey</td>\n",
       "    </tr>\n",
       "    <tr>\n",
       "      <th>3</th>\n",
       "      <td>2024-03-03</td>\n",
       "      <td>Sac à dos</td>\n",
       "      <td>Accessoires</td>\n",
       "      <td>3</td>\n",
       "      <td>79105</td>\n",
       "      <td>Parakou</td>\n",
       "    </tr>\n",
       "    <tr>\n",
       "      <th>4</th>\n",
       "      <td>2024-02-28</td>\n",
       "      <td>T-shirt</td>\n",
       "      <td>Vêtements</td>\n",
       "      <td>4</td>\n",
       "      <td>45486</td>\n",
       "      <td>Djougou</td>\n",
       "    </tr>\n",
       "  </tbody>\n",
       "</table>\n",
       "</div>"
      ],
      "text/plain": [
       "         Date    Produit     Catégorie  Quantité  Prix_unitaire       Ville\n",
       "0  2024-04-03   Lunettes   Accessoires         1          52124     Djougou\n",
       "1  2024-03-06  Sac à dos   Accessoires         3          17419  Porto-Novo\n",
       "2  2024-03-09  Téléphone  Électronique         3           7048      Abomey\n",
       "3  2024-03-03  Sac à dos   Accessoires         3          79105     Parakou\n",
       "4  2024-02-28    T-shirt     Vêtements         4          45486     Djougou"
      ]
     },
     "execution_count": 4,
     "metadata": {},
     "output_type": "execute_result"
    }
   ],
   "source": [
    "#Appercu des données \n",
    "df.head()"
   ]
  },
  {
   "cell_type": "code",
   "execution_count": 5,
   "id": "010e3937-f6f8-41a6-bf76-a4f2d9b7519f",
   "metadata": {
    "panel-layout": {
     "height": 27.140625,
     "visible": true,
     "width": 100
    }
   },
   "outputs": [
    {
     "data": {
      "text/plain": [
       "(1000, 6)"
      ]
     },
     "execution_count": 5,
     "metadata": {},
     "output_type": "execute_result"
    }
   ],
   "source": [
    "#Taille de la dataset\n",
    "df.shape"
   ]
  },
  {
   "cell_type": "code",
   "execution_count": 6,
   "id": "cda83465-0702-422d-b465-ba26675a74ac",
   "metadata": {
    "panel-layout": {
     "height": 27.140625,
     "visible": true,
     "width": 100
    }
   },
   "outputs": [
    {
     "data": {
      "text/plain": [
       "Index(['Date', 'Produit', 'Catégorie', 'Quantité', 'Prix_unitaire', 'Ville'], dtype='object')"
      ]
     },
     "execution_count": 6,
     "metadata": {},
     "output_type": "execute_result"
    }
   ],
   "source": [
    "#colonnes de la dataset\n",
    "df.columns"
   ]
  },
  {
   "cell_type": "code",
   "execution_count": 7,
   "id": "94a4227d-5fa9-4fea-9530-ac6922058134",
   "metadata": {
    "panel-layout": {
     "height": 193,
     "visible": true,
     "width": 100
    }
   },
   "outputs": [
    {
     "data": {
      "text/plain": [
       "Date             object\n",
       "Produit          object\n",
       "Catégorie        object\n",
       "Quantité          int64\n",
       "Prix_unitaire     int64\n",
       "Ville            object\n",
       "dtype: object"
      ]
     },
     "execution_count": 7,
     "metadata": {},
     "output_type": "execute_result"
    }
   ],
   "source": [
    "#Type de données de la dataset\n",
    "df.dtypes"
   ]
  },
  {
   "cell_type": "code",
   "execution_count": 8,
   "id": "81ae6e92-9ee8-4bed-9db8-a01e8e2b9e29",
   "metadata": {
    "panel-layout": {
     "height": 193,
     "visible": true,
     "width": 100
    }
   },
   "outputs": [
    {
     "data": {
      "text/plain": [
       "Date             0\n",
       "Produit          0\n",
       "Catégorie        0\n",
       "Quantité         0\n",
       "Prix_unitaire    0\n",
       "Ville            0\n",
       "dtype: int64"
      ]
     },
     "execution_count": 8,
     "metadata": {},
     "output_type": "execute_result"
    }
   ],
   "source": [
    "#Valeurs manquantes dans la dataset\n",
    "df.isnull().sum()"
   ]
  },
  {
   "cell_type": "code",
   "execution_count": 9,
   "id": "1ea7483b-a2c6-4bbb-b503-54631a7bcc0e",
   "metadata": {
    "panel-layout": {
     "height": 27.140625,
     "visible": true,
     "width": 100
    }
   },
   "outputs": [
    {
     "data": {
      "text/plain": [
       "0"
      ]
     },
     "execution_count": 9,
     "metadata": {},
     "output_type": "execute_result"
    }
   ],
   "source": [
    "df.duplicated().sum()"
   ]
  },
  {
   "cell_type": "code",
   "execution_count": 10,
   "id": "279a821d-2fff-4122-9d14-c2806925f2b7",
   "metadata": {
    "panel-layout": {
     "height": 245,
     "visible": true,
     "width": 100
    }
   },
   "outputs": [
    {
     "data": {
      "text/html": [
       "<div>\n",
       "<style scoped>\n",
       "    .dataframe tbody tr th:only-of-type {\n",
       "        vertical-align: middle;\n",
       "    }\n",
       "\n",
       "    .dataframe tbody tr th {\n",
       "        vertical-align: top;\n",
       "    }\n",
       "\n",
       "    .dataframe thead th {\n",
       "        text-align: right;\n",
       "    }\n",
       "</style>\n",
       "<table border=\"1\" class=\"dataframe\">\n",
       "  <thead>\n",
       "    <tr style=\"text-align: right;\">\n",
       "      <th></th>\n",
       "      <th>Quantité</th>\n",
       "      <th>Prix_unitaire</th>\n",
       "    </tr>\n",
       "  </thead>\n",
       "  <tbody>\n",
       "    <tr>\n",
       "      <th>count</th>\n",
       "      <td>1000.000000</td>\n",
       "      <td>1000.000000</td>\n",
       "    </tr>\n",
       "    <tr>\n",
       "      <th>mean</th>\n",
       "      <td>3.002000</td>\n",
       "      <td>40257.789000</td>\n",
       "    </tr>\n",
       "    <tr>\n",
       "      <th>std</th>\n",
       "      <td>1.410669</td>\n",
       "      <td>22751.820249</td>\n",
       "    </tr>\n",
       "    <tr>\n",
       "      <th>min</th>\n",
       "      <td>1.000000</td>\n",
       "      <td>1040.000000</td>\n",
       "    </tr>\n",
       "    <tr>\n",
       "      <th>25%</th>\n",
       "      <td>2.000000</td>\n",
       "      <td>19496.000000</td>\n",
       "    </tr>\n",
       "    <tr>\n",
       "      <th>50%</th>\n",
       "      <td>3.000000</td>\n",
       "      <td>40117.500000</td>\n",
       "    </tr>\n",
       "    <tr>\n",
       "      <th>75%</th>\n",
       "      <td>4.000000</td>\n",
       "      <td>59968.250000</td>\n",
       "    </tr>\n",
       "    <tr>\n",
       "      <th>max</th>\n",
       "      <td>5.000000</td>\n",
       "      <td>79809.000000</td>\n",
       "    </tr>\n",
       "  </tbody>\n",
       "</table>\n",
       "</div>"
      ],
      "text/plain": [
       "          Quantité  Prix_unitaire\n",
       "count  1000.000000    1000.000000\n",
       "mean      3.002000   40257.789000\n",
       "std       1.410669   22751.820249\n",
       "min       1.000000    1040.000000\n",
       "25%       2.000000   19496.000000\n",
       "50%       3.000000   40117.500000\n",
       "75%       4.000000   59968.250000\n",
       "max       5.000000   79809.000000"
      ]
     },
     "execution_count": 10,
     "metadata": {},
     "output_type": "execute_result"
    }
   ],
   "source": [
    "#Analyse statistiques\n",
    "df.describe()"
   ]
  },
  {
   "cell_type": "code",
   "execution_count": 11,
   "id": "22ae88d2-36c2-4b56-80a0-471fa77557b9",
   "metadata": {
    "panel-layout": {
     "height": 193,
     "visible": true,
     "width": 100
    }
   },
   "outputs": [
    {
     "data": {
      "text/plain": [
       "Ville\n",
       "Parakou       216\n",
       "Djougou       203\n",
       "Cotonou       200\n",
       "Abomey        192\n",
       "Porto-Novo    189\n",
       "Name: count, dtype: int64"
      ]
     },
     "execution_count": 11,
     "metadata": {},
     "output_type": "execute_result"
    }
   ],
   "source": [
    "#Valeur unique par colonne\n",
    "df[\"Ville\"].value_counts()"
   ]
  },
  {
   "cell_type": "code",
   "execution_count": 12,
   "id": "0c8cfb8a-872b-490c-90d7-141091c0f539",
   "metadata": {
    "panel-layout": {
     "height": 271,
     "visible": true,
     "width": 100
    }
   },
   "outputs": [
    {
     "data": {
      "text/plain": [
       "Produit\n",
       "Chaussures      139\n",
       "Lunettes        138\n",
       "Téléphone       130\n",
       "T-shirt         129\n",
       "Sac à dos       125\n",
       "Pantalon        116\n",
       "Casque audio    112\n",
       "Montre          111\n",
       "Name: count, dtype: int64"
      ]
     },
     "execution_count": 12,
     "metadata": {},
     "output_type": "execute_result"
    }
   ],
   "source": [
    "df[\"Produit\"]. value_counts()"
   ]
  },
  {
   "cell_type": "code",
   "execution_count": 13,
   "id": "cb16d32e-4c25-4594-bd79-8bbddd5f4103",
   "metadata": {
    "panel-layout": {
     "height": 167,
     "visible": true,
     "width": 100
    }
   },
   "outputs": [
    {
     "data": {
      "text/plain": [
       "Catégorie\n",
       "Accessoires     374\n",
       "Vêtements       245\n",
       "Électronique    242\n",
       "Baskets         139\n",
       "Name: count, dtype: int64"
      ]
     },
     "execution_count": 13,
     "metadata": {},
     "output_type": "execute_result"
    }
   ],
   "source": [
    "df[\"Catégorie\"].value_counts()"
   ]
  },
  {
   "cell_type": "code",
   "execution_count": 19,
   "id": "88c94bbd-f213-454e-b553-43a5e0b3fa4c",
   "metadata": {
    "panel-layout": {
     "height": 1018,
     "visible": true,
     "width": 100
    }
   },
   "outputs": [
    {
     "data": {
      "image/png": "[encoded data removed]",
      "text/plain": [
       "<Figure size 1000x700 with 1 Axes>"
      ]
     },
     "metadata": {},
     "output_type": "display_data"
    }
   ],
   "source": [
    "np.random.seed(10)\n",
    "d = np.random.normal(100, 20, 200)\n",
    "\n",
    "fig = plt.figure(figsize =(10, 7))\n",
    "\n",
    "plt.boxplot(d)\n",
    "plt.show()"
   ]
  },
  {
   "cell_type": "code",
   "execution_count": null,
   "id": "a1ac070f-f1cc-41de-9717-db9330504793",
   "metadata": {},
   "outputs": [],
   "source": []
  }
 ],
 "metadata": {
  "kernelspec": {
   "display_name": "Python 3 (ipykernel)",
   "language": "python",
   "name": "python3"
  },
  "language_info": {
   "codemirror_mode": {
    "name": "ipython",
    "version": 3
   },
   "file_extension": ".py",
   "mimetype": "text/x-python",
   "name": "python",
   "nbconvert_exporter": "python",
   "pygments_lexer": "ipython3",
   "version": "3.12.7"
  },
  "panel-cell-order": [
   "22eb4e84-7e7a-41bb-b9f5-3513b4180bb6",
   "010e3937-f6f8-41a6-bf76-a4f2d9b7519f",
   "cda83465-0702-422d-b465-ba26675a74ac",
   "94a4227d-5fa9-4fea-9530-ac6922058134",
   "81ae6e92-9ee8-4bed-9db8-a01e8e2b9e29",
   "1ea7483b-a2c6-4bbb-b503-54631a7bcc0e",
   "279a821d-2fff-4122-9d14-c2806925f2b7",
   "22ae88d2-36c2-4b56-80a0-471fa77557b9",
   "0c8cfb8a-872b-490c-90d7-141091c0f539",
   "cb16d32e-4c25-4594-bd79-8bbddd5f4103",
   "88c94bbd-f213-454e-b553-43a5e0b3fa4c"
  ]
 },
 "nbformat": 4,
 "nbformat_minor": 5
}
